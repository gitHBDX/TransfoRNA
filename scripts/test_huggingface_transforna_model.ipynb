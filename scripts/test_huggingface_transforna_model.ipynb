{
 "cells": [
  {
   "cell_type": "code",
   "execution_count": 3,
   "metadata": {},
   "outputs": [],
   "source": [
    "from transforna import GeneEmbeddModel,RnaTokenizer\n",
    "import torch\n",
    "model_name = 'Seq-Struct'\n",
    "model_path = f\"HBDX/{model_name}-TransfoRNA\""
   ]
  },
  {
   "cell_type": "code",
   "execution_count": 9,
   "metadata": {},
   "outputs": [
    {
     "name": "stdout",
     "output_type": "stream",
     "text": [
      "Tokenizing sequences for seq-struct model...\n",
      "\u001b[92mSub Class Prediction PASSED\n",
      "\u001b[92mMajor Class Prediction PASSED\n"
     ]
    }
   ],
   "source": [
    "#load model and tokenizer\n",
    "model = GeneEmbeddModel.from_pretrained(model_path)\n",
    "model.eval()\n",
    "\n",
    "tokenizer = RnaTokenizer.from_pretrained(model_path,model_name=model_name)\n",
    "output = tokenizer(['AAAGTCGGAGGTTCGAAGACGATCAGATAC','TTTTCGGAACTGAGGCCATGATTAAGAGGG'])\n",
    "\n",
    "gene_embedd, second_input_embedd, activations,attn_scores_first,attn_scores_second = \\\n",
    "                                model(output['input_ids'])\n",
    "#gene_embedds and second input embedds are the latent space representation of the input sequence and the second input respectively.\n",
    "#In this case, the second input would be the secondary structure of the sequence\n",
    "\n",
    "#get subclass labels\n",
    "sub_class_labels = model.convert_ids_to_labels(activations)\n",
    "#asset ['18S_bin-38', '18S_bin-33']\n",
    "assert sub_class_labels == ['18S_bin-38', '18S_bin-33'], print('\\033[91m' + 'FAILED')\n",
    "print('\\033[92m' + 'Sub Class Prediction PASSED')\n",
    "\n",
    "#get major class labels\n",
    "major_class_labels = model.convert_subclass_to_majorclass(sub_class_labels)\n",
    "assert major_class_labels == ['rRNA', 'rRNA'], print('\\033[91m' + 'FAILED')\n",
    "print('\\033[92m' + 'Major Class Prediction PASSED')\n"
   ]
  },
  {
   "cell_type": "code",
   "execution_count": 6,
   "metadata": {},
   "outputs": [],
   "source": []
  },
  {
   "cell_type": "code",
   "execution_count": 7,
   "metadata": {},
   "outputs": [
    {
     "data": {
      "text/plain": [
       "['rRNA', 'rRNA']"
      ]
     },
     "execution_count": 7,
     "metadata": {},
     "output_type": "execute_result"
    }
   ],
   "source": [
    "major_class"
   ]
  },
  {
   "cell_type": "code",
   "execution_count": null,
   "metadata": {},
   "outputs": [],
   "source": []
  }
 ],
 "metadata": {
  "kernelspec": {
   "display_name": "transforna",
   "language": "python",
   "name": "python3"
  },
  "language_info": {
   "codemirror_mode": {
    "name": "ipython",
    "version": 3
   },
   "file_extension": ".py",
   "mimetype": "text/x-python",
   "name": "python",
   "nbconvert_exporter": "python",
   "pygments_lexer": "ipython3",
   "version": "3.9.18"
  }
 },
 "nbformat": 4,
 "nbformat_minor": 2
}
